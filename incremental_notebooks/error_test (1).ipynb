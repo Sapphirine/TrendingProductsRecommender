{
 "cells": [
  {
   "cell_type": "markdown",
   "metadata": {},
   "source": [
    "# Py4JNetworkError test"
   ]
  },
  {
   "cell_type": "markdown",
   "metadata": {},
   "source": [
    "# FIXED"
   ]
  },
  {
   "cell_type": "code",
   "execution_count": 1,
   "metadata": {},
   "outputs": [],
   "source": [
    "import os\n",
    "import findspark\n",
    "os.environ['PYSPARK_SUBMIT_ARGS'] = (\n",
    "    \"--repositories http://repo.hortonworks.com/content/groups/public/ \"\n",
    "    \"--packages com.hortonworks:shc-core:1.1.1-2.1-s_2.11 \"\n",
    "    \" pyspark-shell\")\n",
    "findspark.init()"
   ]
  },
  {
   "cell_type": "code",
   "execution_count": 2,
   "metadata": {},
   "outputs": [],
   "source": [
    "from pyspark import SQLContext, SparkConf, SparkContext\n",
    "from pyspark.sql import SparkSession\n",
    "conf = SparkConf()\n",
    "conf.setAppName(\"project1\")\n",
    "sc = SparkContext(conf=conf)\n",
    "sqlContext = SQLContext(sc)"
   ]
  },
  {
   "cell_type": "code",
   "execution_count": 3,
   "metadata": {},
   "outputs": [],
   "source": [
    "from pyspark.ml.feature import Tokenizer, RegexTokenizer\n",
    "from pyspark.sql.functions import col, udf\n",
    "from pyspark.sql.types import IntegerType\n",
    "spark = SparkSession.builder.appName(\"test\").getOrCreate()"
   ]
  },
  {
   "cell_type": "code",
   "execution_count": 4,
   "metadata": {},
   "outputs": [],
   "source": [
    "from pyspark.sql.types import StructType, StructField, IntegerType, StringType, BooleanType\n",
    "\n",
    "schema = StructType([\n",
    "    StructField(\"marketplace\", StringType(), True),\n",
    "    StructField(\"customer_id\", StringType(), True),\n",
    "    StructField(\"review_id\", StringType(), True),\n",
    "    StructField(\"product_id\", StringType(), True),\n",
    "    StructField(\"product_parent\", StringType(), True),\n",
    "    StructField(\"product_title\", StringType(), True), # \"label\" replaces \"product_title\"\n",
    "    StructField(\"product_category\", StringType(), True),\n",
    "    StructField(\"star_rating\", IntegerType(), True),\n",
    "    StructField(\"helpful_votes\", IntegerType(), True),\n",
    "    StructField(\"total_votes\", IntegerType(), True),\n",
    "    StructField(\"vine\", StringType(), True),\n",
    "    StructField(\"verified_purchase\", StringType(), True),\n",
    "    StructField(\"review_headline\", StringType(), True),\n",
    "    StructField(\"review_body\", StringType(), True),\n",
    "    StructField(\"review_date\", StringType(), True)])\n",
    "\n",
    "#df_test = spark.read.csv('amazon_reviews_us_Grocery_v1_00.tsv', sep=\"\\t\", header=True, schema=schema)\n",
    "df_test = spark.read.csv('sample.csv', header=True, schema=schema)"
   ]
  },
  {
   "cell_type": "code",
   "execution_count": 5,
   "metadata": {},
   "outputs": [
    {
     "data": {
      "text/plain": [
       "6511"
      ]
     },
     "execution_count": 5,
     "metadata": {},
     "output_type": "execute_result"
    }
   ],
   "source": [
    "df_test.count()"
   ]
  },
  {
   "cell_type": "code",
   "execution_count": 6,
   "metadata": {},
   "outputs": [],
   "source": [
    "df_test = df_test.dropna()\n",
    "df_test.count()\n",
    "dft = df_test.drop('marketplace','customer_id','review_id','product_id','product_parent','product_category','star_rating','helpful_votes','total_votes','vine','verified_purchase','review_headline','review_date')"
   ]
  },
  {
   "cell_type": "code",
   "execution_count": 7,
   "metadata": {},
   "outputs": [
    {
     "data": {
      "text/plain": [
       "6496"
      ]
     },
     "execution_count": 7,
     "metadata": {},
     "output_type": "execute_result"
    }
   ],
   "source": [
    "dft.count()"
   ]
  },
  {
   "cell_type": "code",
   "execution_count": 8,
   "metadata": {},
   "outputs": [],
   "source": [
    "dft2 = dft.select('*').where('product_title is not null or review_body is not null or product_title <> \"\" or review_body <> \"\"')"
   ]
  },
  {
   "cell_type": "code",
   "execution_count": 9,
   "metadata": {},
   "outputs": [
    {
     "data": {
      "text/plain": [
       "6496"
      ]
     },
     "execution_count": 9,
     "metadata": {},
     "output_type": "execute_result"
    }
   ],
   "source": [
    "dft2.count()"
   ]
  },
  {
   "cell_type": "code",
   "execution_count": 10,
   "metadata": {},
   "outputs": [
    {
     "name": "stdout",
     "output_type": "stream",
     "text": [
      "+--------------------+--------------------+\n",
      "|       product_title|         review_body|\n",
      "+--------------------+--------------------+\n",
      "|The Cravings Plac...|As a family aller...|\n",
      "|Mauna Loa Macadam...|My favorite nut. ...|\n",
      "|Organic Matcha Gr...|This green tea ta...|\n",
      "|15oz Raspberry Ly...|I love Melissa's ...|\n",
      "|Stride Spark Kine...|                good|\n",
      "|Herr's Popcorn Ho...|The popcorn was s...|\n",
      "|Larabar uber, 1.4...|Love these bars, ...|\n",
      "|Shirakiku Soba No...|Love the taste bu...|\n",
      "|Jif Chocolate Nut...|I'm a member of t...|\n",
      "|Orgain Organic Pl...|Used to be a dece...|\n",
      "|Bragg - All Natur...|I cannot tell the...|\n",
      "|Wholesome Sweeten...|Good flavor and s...|\n",
      "|Kadoya Pure Sesam...|Great to use in r...|\n",
      "|Nishiki Premium B...|It's rice. Have e...|\n",
      "|Everly Passion Fr...|Very good tasting...|\n",
      "|Charms Blue Razzb...|They were perfect...|\n",
      "|Food Should Taste...|Wow, these are so...|\n",
      "|Skippy Creamy Pea...|I bought this fro...|\n",
      "|Celestial Seasoni...|I love this tea, ...|\n",
      "|Nutiva Organic Vi...|I have used servo...|\n",
      "|Abbaye De Flavign...|Taste as remember...|\n",
      "|Underberg Bitter ...|     LOVE THIS STUFF|\n",
      "|Hershey's Hallowe...|This is a variety...|\n",
      "|Keebler Town Hous...|not craze about t...|\n",
      "|Knorr Dill & Herb...|We love it. It gi...|\n",
      "|Monin Sugar Free ...|A very large bott...|\n",
      "|Eclipse Sugar Fre...|          it's gum..|\n",
      "|Angostura Bitters...|It works well for...|\n",
      "|Green Mountain Da...|Good dark roast f...|\n",
      "|Nespresso Origina...|Absolutely love t...|\n",
      "|blk Premium  Alka...|I don't know what...|\n",
      "|Revolution Tea Dr...|        Good choice!|\n",
      "|Cirio Italian Cru...|Never will buy an...|\n",
      "|Pringles Variety ...|I love pringles. ...|\n",
      "|Vegemite 220g - T...|An Australian fri...|\n",
      "|Golden Island Nat...|The flavor did re...|\n",
      "|Terrasoul Superfo...|Soon to tell, but...|\n",
      "|House Foods Wasab...|Really hot for wa...|\n",
      "|Brew & Save Caraf...|There are no inst...|\n",
      "|LifeSavers Hard W...|LifeSavers brand ...|\n",
      "|Amoretti Premium ...|This product is b...|\n",
      "|Simple Girl Carol...|Ok but not enough...|\n",
      "|Lenny & Larry's T...|Excellent taste, ...|\n",
      "|       DARKWING DUCK|It came in perfec...|\n",
      "|Organic Cotton Ca...|My kids and I are...|\n",
      "|Freezer Bars Kool...|       Great product|\n",
      "| Kava Instant Coffee|This is the only ...|\n",
      "|80pk White Coffee...|I am disappointed...|\n",
      "|Stash Tea Holiday...|This tea is great...|\n",
      "|Good Earth Teas O...|This is my go-to ...|\n",
      "+--------------------+--------------------+\n",
      "only showing top 50 rows\n",
      "\n"
     ]
    }
   ],
   "source": [
    "dft.show(50)"
   ]
  },
  {
   "cell_type": "code",
   "execution_count": 11,
   "metadata": {},
   "outputs": [],
   "source": [
    "dft2 = dft2.select('*').where('length(review_body)>30')"
   ]
  },
  {
   "cell_type": "code",
   "execution_count": 12,
   "metadata": {},
   "outputs": [
    {
     "data": {
      "text/plain": [
       "4820"
      ]
     },
     "execution_count": 12,
     "metadata": {},
     "output_type": "execute_result"
    }
   ],
   "source": [
    "dft2.count()"
   ]
  },
  {
   "cell_type": "code",
   "execution_count": 13,
   "metadata": {},
   "outputs": [],
   "source": [
    "#dft2.select('*').where(dft2.product_title.startswith('Jif')).show()"
   ]
  },
  {
   "cell_type": "code",
   "execution_count": 14,
   "metadata": {},
   "outputs": [
    {
     "name": "stdout",
     "output_type": "stream",
     "text": [
      "+--------------------+--------------------+\n",
      "|       product_title|         review_body|\n",
      "+--------------------+--------------------+\n",
      "|The Cravings Plac...|As a family aller...|\n",
      "|Mauna Loa Macadam...|My favorite nut. ...|\n",
      "|Organic Matcha Gr...|This green tea ta...|\n",
      "+--------------------+--------------------+\n",
      "only showing top 3 rows\n",
      "\n"
     ]
    }
   ],
   "source": [
    "dft2.show(3)"
   ]
  },
  {
   "cell_type": "code",
   "execution_count": 15,
   "metadata": {},
   "outputs": [
    {
     "name": "stdout",
     "output_type": "stream",
     "text": [
      "+--------------------+-----+\n",
      "|       product_title|count|\n",
      "+--------------------+-----+\n",
      "|Jif Chocolate Nut...|   80|\n",
      "|San Francisco Bay...|   28|\n",
      "|Viva Naturals Org...|   17|\n",
      "+--------------------+-----+\n",
      "only showing top 3 rows\n",
      "\n"
     ]
    }
   ],
   "source": [
    "from pyspark.sql.functions import col\n",
    "dft2.groupBy(\"product_title\") \\\n",
    "    .count() \\\n",
    "    .orderBy(col(\"count\").desc()) \\\n",
    "    .show(3)"
   ]
  },
  {
   "cell_type": "code",
   "execution_count": 16,
   "metadata": {},
   "outputs": [
    {
     "name": "stdout",
     "output_type": "stream",
     "text": [
      "+--------------------+--------------------+\n",
      "|       product_title|         review_body|\n",
      "+--------------------+--------------------+\n",
      "|The Cravings Plac...|As a family aller...|\n",
      "|Mauna Loa Macadam...|My favorite nut. ...|\n",
      "|Organic Matcha Gr...|This green tea ta...|\n",
      "+--------------------+--------------------+\n",
      "only showing top 3 rows\n",
      "\n"
     ]
    }
   ],
   "source": [
    "dft3 = dft2\n",
    "dft3.show(3)"
   ]
  },
  {
   "cell_type": "code",
   "execution_count": 17,
   "metadata": {},
   "outputs": [],
   "source": [
    "import pyspark.sql.functions as F\n",
    "from pyspark.sql import Window \n",
    "counts = dft3.groupBy('product_title').count()\n",
    "counts = counts.selectExpr(\"product_title as product_title_tmp\", \"count as count\")  "
   ]
  },
  {
   "cell_type": "code",
   "execution_count": 18,
   "metadata": {},
   "outputs": [
    {
     "name": "stdout",
     "output_type": "stream",
     "text": [
      "+--------------------+-----+\n",
      "|   product_title_tmp|count|\n",
      "+--------------------+-----+\n",
      "|Eatsmart Naturals...|    1|\n",
      "|Haribo Lakritz Ko...|    1|\n",
      "|Del Monte Cherry ...|    1|\n",
      "+--------------------+-----+\n",
      "only showing top 3 rows\n",
      "\n"
     ]
    }
   ],
   "source": [
    "counts.show(3)"
   ]
  },
  {
   "cell_type": "code",
   "execution_count": 19,
   "metadata": {},
   "outputs": [],
   "source": [
    "dft3 = dft3.join(counts, dft3.product_title == counts.product_title_tmp)\n",
    "dft3 = dft3.drop('product_title_tmp')"
   ]
  },
  {
   "cell_type": "code",
   "execution_count": 20,
   "metadata": {},
   "outputs": [
    {
     "data": {
      "text/plain": [
       "4820"
      ]
     },
     "execution_count": 20,
     "metadata": {},
     "output_type": "execute_result"
    }
   ],
   "source": [
    "dft3.count()"
   ]
  },
  {
   "cell_type": "code",
   "execution_count": 21,
   "metadata": {},
   "outputs": [
    {
     "name": "stdout",
     "output_type": "stream",
     "text": [
      "+--------------------+--------------------+-----+\n",
      "|       product_title|         review_body|count|\n",
      "+--------------------+--------------------+-----+\n",
      "|Mauna Loa Macadam...|My favorite nut. ...|    6|\n",
      "|Organic Matcha Gr...|This green tea ta...|    6|\n",
      "|Jif Chocolate Nut...|I'm a member of t...|   80|\n",
      "|Orgain Organic Pl...|Used to be a dece...|    8|\n",
      "|Nutiva Organic Vi...|I have used servo...|    8|\n",
      "|Mauna Loa Macadam...|What can I say, t...|    6|\n",
      "|Jif Chocolate Nut...|Im a choosie Moth...|   80|\n",
      "|Healthworks Cacao...|Great tasting...e...|   17|\n",
      "|Nutiva Organic Vi...|Use instead of sh...|    8|\n",
      "|Healthworks Chia ...|Much better value...|   12|\n",
      "|YumEarth Organic ...|I don't know abou...|    6|\n",
      "|Jif Chocolate Nut...|Iâ€™m a member of...|   80|\n",
      "|Matcha Green Tea ...|I am enjoying my ...|   11|\n",
      "|IZZE Fortified Sp...|Delicious fizz wi...|    6|\n",
      "|San Francisco Bay...|Second purchase. ...|   28|\n",
      "|Zevia Naturally S...|I loved the old f...|   17|\n",
      "|Jif Chocolate Nut...|I reviewed this p...|   80|\n",
      "|Celestial Seasoni...|Peppermint tea is...|    8|\n",
      "|San Francisco Bay...|Lost 3.4 lbs in t...|   28|\n",
      "|Great Lakes Gelat...|I love this brand...|    7|\n",
      "+--------------------+--------------------+-----+\n",
      "only showing top 20 rows\n",
      "\n"
     ]
    }
   ],
   "source": [
    "dft3 = dft3.select('*').where('count > 5')\n",
    "dft3.count()\n",
    "dft3.show(20)"
   ]
  },
  {
   "cell_type": "code",
   "execution_count": 22,
   "metadata": {},
   "outputs": [
    {
     "data": {
      "text/plain": [
       "DataFrame[product_title: string, review_body: string]"
      ]
     },
     "execution_count": 22,
     "metadata": {},
     "output_type": "execute_result"
    }
   ],
   "source": [
    "dft3.drop('count')"
   ]
  },
  {
   "cell_type": "code",
   "execution_count": 23,
   "metadata": {},
   "outputs": [
    {
     "name": "stdout",
     "output_type": "stream",
     "text": [
      "+--------------------+--------------------+-----+\n",
      "|       product_title|         review_body|count|\n",
      "+--------------------+--------------------+-----+\n",
      "|Mauna Loa Macadam...|My favorite nut. ...|    6|\n",
      "|Organic Matcha Gr...|This green tea ta...|    6|\n",
      "|Jif Chocolate Nut...|I'm a member of t...|   80|\n",
      "|Orgain Organic Pl...|Used to be a dece...|    8|\n",
      "|Nutiva Organic Vi...|I have used servo...|    8|\n",
      "|Mauna Loa Macadam...|What can I say, t...|    6|\n",
      "|Jif Chocolate Nut...|Im a choosie Moth...|   80|\n",
      "|Healthworks Cacao...|Great tasting...e...|   17|\n",
      "|Nutiva Organic Vi...|Use instead of sh...|    8|\n",
      "|Healthworks Chia ...|Much better value...|   12|\n",
      "|YumEarth Organic ...|I don't know abou...|    6|\n",
      "|Jif Chocolate Nut...|Iâ€™m a member of...|   80|\n",
      "|Matcha Green Tea ...|I am enjoying my ...|   11|\n",
      "|IZZE Fortified Sp...|Delicious fizz wi...|    6|\n",
      "|San Francisco Bay...|Second purchase. ...|   28|\n",
      "|Zevia Naturally S...|I loved the old f...|   17|\n",
      "|Jif Chocolate Nut...|I reviewed this p...|   80|\n",
      "|Celestial Seasoni...|Peppermint tea is...|    8|\n",
      "|San Francisco Bay...|Lost 3.4 lbs in t...|   28|\n",
      "|Great Lakes Gelat...|I love this brand...|    7|\n",
      "+--------------------+--------------------+-----+\n",
      "only showing top 20 rows\n",
      "\n"
     ]
    }
   ],
   "source": [
    "dft3.show(20)"
   ]
  },
  {
   "cell_type": "code",
   "execution_count": 24,
   "metadata": {},
   "outputs": [
    {
     "data": {
      "text/plain": [
       "397"
      ]
     },
     "execution_count": 24,
     "metadata": {},
     "output_type": "execute_result"
    }
   ],
   "source": [
    "dft3.count()"
   ]
  },
  {
   "cell_type": "code",
   "execution_count": 25,
   "metadata": {},
   "outputs": [],
   "source": [
    "from pyspark.ml.feature import RegexTokenizer, StopWordsRemover, CountVectorizer\n",
    "from pyspark.ml.classification import LogisticRegression\n",
    "\n",
    "# regular expression tokenizer\n",
    "regexTokenizer = RegexTokenizer(inputCol=\"review_body\", outputCol=\"words\", pattern = \"[^A-Za-z]+\", toLowercase=True)\n",
    "\n",
    "# stop words\n",
    "add_stopwords = [\"i\", \"me\", \"my\", \"myself\", \"we\", \"our\", \"ours\", \"ourselves\", \"you\", \"your\", \"yours\", \"yourself\", \"yourselves\", \"he\", \"him\", \"his\", \"himself\", \"she\", \"her\", \"hers\", \"herself\", \"it\", \"its\", \"itself\", \"they\", \"them\", \"their\", \"theirs\", \"themselves\", \"what\", \"which\", \"who\", \"whom\", \"this\", \"that\", \"these\", \"those\", \"am\", \"is\", \"are\", \"was\", \"were\", \"be\", \"been\", \"being\", \"have\", \"has\", \"had\", \"having\", \"do\", \"does\", \"did\", \"doing\", \"a\", \"an\", \"the\", \"and\", \"but\", \"if\", \"or\", \"because\", \"as\", \"until\", \"while\", \"of\", \"at\", \"by\", \"for\", \"with\", \"about\", \"against\", \"between\", \"into\", \"through\", \"during\", \"before\", \"after\", \"above\", \"below\", \"to\", \"from\", \"up\", \"down\", \"in\", \"out\", \"on\", \"off\", \"over\", \"under\", \"again\", \"further\", \"then\", \"once\", \"here\", \"there\", \"when\", \"where\", \"why\", \"how\", \"all\", \"any\", \"both\", \"each\", \"few\", \"more\", \"most\", \"other\", \"some\", \"such\", \"no\", \"nor\", \"not\", \"only\", \"own\", \"same\", \"so\", \"than\", \"too\", \"very\", \"s\", \"t\", \"can\", \"will\", \"just\", \"don\", \"should\", \"now\"]\n",
    "stopwordsRemover = StopWordsRemover(inputCol=\"words\", outputCol=\"filtered\").setStopWords(add_stopwords)\n",
    "\n",
    "# bag of words count\n",
    "countVectors = CountVectorizer(inputCol=\"filtered\", outputCol=\"features\", vocabSize=10000, minDF=5)"
   ]
  },
  {
   "cell_type": "code",
   "execution_count": 26,
   "metadata": {},
   "outputs": [],
   "source": [
    "from pyspark.ml import Pipeline\n",
    "from pyspark.ml.feature import OneHotEncoder, StringIndexer, VectorAssembler\n",
    "label_stringIdx = StringIndexer(inputCol = \"product_title\", outputCol = \"label\")\n",
    "pipeline = Pipeline(stages=[regexTokenizer, stopwordsRemover, countVectors, label_stringIdx])\n"
   ]
  },
  {
   "cell_type": "code",
   "execution_count": 27,
   "metadata": {},
   "outputs": [
    {
     "name": "stdout",
     "output_type": "stream",
     "text": [
      "+--------------------+--------------------+-----+--------------------+--------------------+--------------------+-----+\n",
      "|       product_title|         review_body|count|               words|            filtered|            features|label|\n",
      "+--------------------+--------------------+-----+--------------------+--------------------+--------------------+-----+\n",
      "|Mauna Loa Macadam...|My favorite nut. ...|    6|[my, favorite, nu...|[favorite, nut, c...|(366,[41,48,53,77...| 31.0|\n",
      "|Organic Matcha Gr...|This green tea ta...|    6|[this, green, tea...|[green, tea, tast...|(366,[10,24,45,10...| 33.0|\n",
      "|Jif Chocolate Nut...|I'm a member of t...|   80|[i, m, a, member,...|[m, member, crowd...|(366,[0,1,2,5,6,7...|  0.0|\n",
      "|Orgain Organic Pl...|Used to be a dece...|    8|[used, to, be, a,...|[used, decent, pr...|(366,[3,13,33,46,...| 11.0|\n",
      "|Nutiva Organic Vi...|I have used servo...|    8|[i, have, used, s...|[used, servo, dif...|(366,[3,21,22,23,...| 13.0|\n",
      "+--------------------+--------------------+-----+--------------------+--------------------+--------------------+-----+\n",
      "only showing top 5 rows\n",
      "\n",
      "Training Dataset 1 Count: 277\n",
      "Test Dataset Count: 120\n"
     ]
    }
   ],
   "source": [
    "pipelineFit_t = pipeline.fit(dft3)\n",
    "dataset_t = pipelineFit_t.transform(dft3)\n",
    "dataset_t.show(5)\n",
    "dataset_final = dataset_t.select('*').where('label < 100')\n",
    "(trainingData_t, testData_t) = dataset_final.randomSplit([0.7, 0.3], seed = 100)\n",
    "print(\"Training Dataset 1 Count: \" + str(trainingData_t.count()))\n",
    "print(\"Test Dataset Count: \" + str(testData_t.count()))"
   ]
  },
  {
   "cell_type": "code",
   "execution_count": 28,
   "metadata": {},
   "outputs": [
    {
     "name": "stdout",
     "output_type": "stream",
     "text": [
      "+--------------------+--------------------+-----+--------------------+--------------------+--------------------+-----+\n",
      "|       product_title|         review_body|count|               words|            filtered|            features|label|\n",
      "+--------------------+--------------------+-----+--------------------+--------------------+--------------------+-----+\n",
      "|Mauna Loa Macadam...|My favorite nut. ...|    6|[my, favorite, nu...|[favorite, nut, c...|(366,[41,48,53,77...| 31.0|\n",
      "|Organic Matcha Gr...|This green tea ta...|    6|[this, green, tea...|[green, tea, tast...|(366,[10,24,45,10...| 33.0|\n",
      "|Jif Chocolate Nut...|I'm a member of t...|   80|[i, m, a, member,...|[m, member, crowd...|(366,[0,1,2,5,6,7...|  0.0|\n",
      "|Orgain Organic Pl...|Used to be a dece...|    8|[used, to, be, a,...|[used, decent, pr...|(366,[3,13,33,46,...| 11.0|\n",
      "|Nutiva Organic Vi...|I have used servo...|    8|[i, have, used, s...|[used, servo, dif...|(366,[3,21,22,23,...| 13.0|\n",
      "|Mauna Loa Macadam...|What can I say, t...|    6|[what, can, i, sa...|[say, yummy, stop...|(366,[106,238,246...| 31.0|\n",
      "|Jif Chocolate Nut...|Im a choosie Moth...|   80|[im, a, choosie, ...|[im, choosie, mot...|(366,[0,1,5,10,22...|  0.0|\n",
      "|Healthworks Cacao...|Great tasting...e...|   17|[great, tasting, ...|[great, tasting, ...|(366,[2,71,95,118...|  3.0|\n",
      "|Nutiva Organic Vi...|Use instead of sh...|    8|[use, instead, of...|[use, instead, sh...|(366,[3,10,20,21,...| 13.0|\n",
      "|Healthworks Chia ...|Much better value...|   12|[much, better, va...|[much, better, va...|(366,[32,40,137,1...|  5.0|\n",
      "|YumEarth Organic ...|I don't know abou...|    6|[i, don, t, know,...|[know, shopping, ...|(366,[2,55,83,116...| 24.0|\n",
      "|Jif Chocolate Nut...|Iâ€™m a member of...|   80|[i, m, a, member,...|[m, member, crowd...|(366,[0,1,3,5,6,7...|  0.0|\n",
      "|Matcha Green Tea ...|I am enjoying my ...|   11|[i, am, enjoying,...|[enjoying, every,...|(366,[24,86,101,1...|  6.0|\n",
      "|IZZE Fortified Sp...|Delicious fizz wi...|    6|[delicious, fizz,...|[delicious, fizz,...|(366,[29,186,274]...| 29.0|\n",
      "|San Francisco Bay...|Second purchase. ...|   28|[second, purchase...|[second, purchase...|(366,[10,26,78,24...|  1.0|\n",
      "|Zevia Naturally S...|I loved the old f...|   17|[i, loved, the, o...|[loved, old, form...|(366,[8,10,28,30,...|  2.0|\n",
      "|Jif Chocolate Nut...|I reviewed this p...|   80|[i, reviewed, thi...|[reviewed, produc...|(366,[1,2,3,5,6,9...|  0.0|\n",
      "|Celestial Seasoni...|Peppermint tea is...|    8|[peppermint, tea,...|[peppermint, tea,...|(366,[10,22,24,73...| 14.0|\n",
      "|San Francisco Bay...|Lost 3.4 lbs in t...|   28|[lost, lbs, in, t...|[lost, lbs, three...|(366,[4,22,26,32,...|  1.0|\n",
      "|Great Lakes Gelat...|I love this brand...|    7|[i, love, this, b...|[love, brand, col...|(366,[4,6,21,30,3...| 19.0|\n",
      "|Zevia Naturally S...|I learned about z...|   17|[i, learned, abou...|[learned, zevia, ...|(366,[4,6,7,10,11...|  2.0|\n",
      "|BeanBoozled Spinn...|My 6 year old fin...|    6|[my, year, old, f...|[year, old, finds...|(366,[164,344],[1...| 35.0|\n",
      "|KIND Bars, Dark C...|Kind Bars, a regu...|    7|[kind, bars, a, r...|[kind, bars, regu...|(366,[1,10,25,87,...| 22.0|\n",
      "|Jif Chocolate Nut...|I was very excite...|   80|[i, was, very, ex...|[excited, try, ba...|(366,[0,1,5,7,8,9...|  0.0|\n",
      "|Ms. Beehaven's Br...|Absolutely delici...|    7|[absolutely, deli...|[absolutely, deli...|(366,[5,25,29,45,...| 18.0|\n",
      "|IZZE Fortified Sp...|Delicious, but th...|    6|[delicious, but, ...|[delicious, cucum...|(366,[29,122],[1....| 29.0|\n",
      "|Matcha DNA Certif...|A little goes alo...|    8|[a, little, goes,...|[little, goes, al...|(366,[69,72,136,1...| 12.0|\n",
      "|K-cup Coffee Pod ...|honestly love thi...|    7|[honestly, love, ...|[honestly, love, ...|(366,[3,4,13,22,6...| 21.0|\n",
      "|Bell Plantation P...|So much cleaner t...|    6|[so, much, cleane...|[much, cleaner, r...|(366,[5,9,40,322]...| 26.0|\n",
      "|Amazing Grass Gre...|Was looking for a...|    9|[was, looking, fo...|[looking, alterna...|(366,[6,95,127,17...| 10.0|\n",
      "|San Francisco Bay...|Tastes OK. It is ...|   28|[tastes, ok, it, ...|[tastes, ok, list...|(366,[13,23,26,45...|  1.0|\n",
      "|V8 V-Fusion +Ener...|I received a coup...|   10|[i, received, a, ...|[received, coupon...|(366,[7,10,13,23,...|  8.0|\n",
      "|Jif Chocolate Nut...|I'm a power lifte...|   80|[i, m, a, power, ...|[m, power, lifter...|(366,[1,3,4,6,8,1...|  0.0|\n",
      "|Matcha DNA Certif...|Perfect for weigh...|    8|[perfect, for, we...|[perfect, weight,...|(366,[39,50,54,57...| 12.0|\n",
      "|Jif Creamy Peanut...|I could live on p...|   11|[i, could, live, ...|[could, live, pea...|(366,[0,1,5,7,8,9...|  7.0|\n",
      "|BeanBoozled Spinn...|For those of you ...|    6|[for, those, of, ...|[weak, stomach, r...|(366,[23,80,92,14...| 35.0|\n",
      "|Matcha Green Tea ...|Love this tea! I ...|   11|[love, this, tea,...|[love, tea, tried...|(366,[3,4,13,24,4...|  6.0|\n",
      "|Viva Naturals Org...|Tastes, and smell...|   17|[tastes, and, sme...|[tastes, smells, ...|(366,[2,21,45,227...|  4.0|\n",
      "|Coffee Variety Sa...|so now I must upd...|    7|[so, now, i, must...|[must, update, re...|(366,[4,11,15,26,...| 20.0|\n",
      "|Zevia Naturally S...|This is meh. The ...|   17|[this, is, meh, t...|[meh, version, ca...|(366,[3,8,32,45,5...|  2.0|\n",
      "|Beech-Nut Just Or...|We used to buy th...|    6|[we, used, to, bu...|[used, buy, brand...|(366,[38,39,46,51...| 32.0|\n",
      "|Jif Chocolate Nut...|I am a peanut but...|   80|[i, am, a, peanut...|[peanut, butter, ...|(366,[0,1,5,7,8,9...|  0.0|\n",
      "|            Twinings|English breakfast...|    6|[english, breakfa...|[english, breakfa...|(366,[3,24,26,30,...| 27.0|\n",
      "|Healthworks Chia ...|I've been using t...|   12|[i, ve, been, usi...|[ve, using, help,...|(366,[52,64,84,97...|  5.0|\n",
      "|Brooklyn Beans Si...|These were all pr...|    6|[these, were, all...|[pretty, good, se...|(366,[6,10,13,23,...| 28.0|\n",
      "|Beech-Nut Just Or...|I received a samp...|    6|[i, received, a, ...|[received, sample...|(366,[3,4,13,14,2...| 32.0|\n",
      "|Zevia Naturally S...|Arrived on a Sund...|   17|[arrived, on, a, ...|[arrived, sunday,...|(366,[3,6,13,21,2...|  2.0|\n",
      "|            Twinings|I now drink it ev...|    6|[i, now, drink, i...|[drink, every, da...|(366,[4,50,64,86]...| 27.0|\n",
      "|Zevia Naturally S...|Zevia has been a ...|   17|[zevia, has, been...|[zevia, godsend, ...|(366,[8,30,52,75,...|  2.0|\n",
      "|K-cup Coffee Pod ...|My son bought thi...|    7|[my, son, bought,...|[son, bought, wif...|(366,[80,100,144,...| 21.0|\n",
      "|Beech-Nut Just Or...|The Beech-Nut Org...|    6|[the, beech, nut,...|[beech, nut, orga...|(366,[2,7,10,13,2...| 32.0|\n",
      "|Coffee Variety Sa...|I have a complime...|    7|[i, have, a, comp...|[complimentary, d...|(366,[50,57,68],[...| 20.0|\n",
      "|Bell Plantation P...|Delicious. Great ...|    6|[delicious, great...|[delicious, great...|(366,[2,29,49,143...| 26.0|\n",
      "|KIND PLUS Gluten ...|I love these, but...|   10|[i, love, these, ...|[love, last, ship...|(366,[4,27,58,91,...|  9.0|\n",
      "|Jif Chocolate Nut...|These Jif peanut ...|   80|[these, jif, pean...|[jif, peanut, but...|(366,[0,1,5,7,8,9...|  0.0|\n",
      "|Jif Chocolate Nut...|I received Jif Ba...|   80|[i, received, jif...|[received, jif, b...|(366,[0,1,2,5,7,9...|  0.0|\n",
      "|KIND PLUS Gluten ...|I absolutely love...|   10|[i, absolutely, l...|[absolutely, love...|(366,[1,2,4,8,10,...|  9.0|\n",
      "|San Francisco Bay...|A lot stronger th...|   28|[a, lot, stronger...|[lot, stronger, e...|   (366,[163],[1.0])|  1.0|\n",
      "|Healthworks Chia ...|Good value.  Good...|   12|[good, value, goo...|[good, value, goo...|(366,[10,143,187,...|  5.0|\n",
      "|Amazing Grass Gre...|Tastes SO disgust...|    9|[tastes, so, disg...|[tastes, disgusti...|(366,[45,78,88],[...| 10.0|\n",
      "|Jif Chocolate Nut...|Love them. My dau...|   80|[love, them, my, ...|[love, daughter, ...|(366,[0,1,4,5,7,8...|  0.0|\n",
      "|Orgain Organic Pl...|My wife and I tri...|    8|[my, wife, and, i...|[wife, tried, pro...|(366,[3,4,8,13,31...| 11.0|\n",
      "|Matcha DNA Certif...|does taste like m...|    8|[does, taste, lik...|[taste, like, mat...|(366,[3,6,101,177...| 12.0|\n",
      "|Jif Chocolate Nut...|Iâ€™m a member of...|   80|[i, m, a, member,...|[m, member, crowd...|(366,[0,1,5,7,8,9...|  0.0|\n",
      "|Jif Chocolate Nut...|These bars are gr...|   80|[these, bars, are...|[bars, great, tas...|(366,[0,1,2,7,8,1...|  0.0|\n",
      "|Jif Chocolate Nut...|I got to try thes...|   80|[i, got, to, try,...|[got, try, free, ...|(366,[0,2,3,4,5,6...|  0.0|\n",
      "|Sherpa Pink Himal...|Great packaging a...|    8|[great, packaging...|[great, packaging...|(366,[2,13,20,36,...| 16.0|\n",
      "|Jif Chocolate Nut...|Iâ€™m a member of...|   80|[i, m, a, member,...|[m, member, crowd...|(366,[0,1,7,8,12,...|  0.0|\n",
      "|Amazing Grass Gre...|This stuff is gro...|    9|[this, stuff, is,...|[stuff, gross, m,...|(366,[6,8,10,13,4...| 10.0|\n",
      "|            Twinings|This is one of my...|    6|[this, is, one, o...|[one, favorite, t...|(366,[4,6,22,24,5...| 27.0|\n",
      "|Organic Matcha Gr...|Would order again...|    6|[would, order, ag...|[would, order, wo...|(366,[13,30,55,14...| 33.0|\n",
      "|Brooklyn Beans Si...|Great variety of ...|    6|[great, variety, ...|[great, variety, ...|(366,[2,26,39,167...| 28.0|\n",
      "|Celestial Seasoni...|Nice cup of tea. ...|    8|[nice, cup, of, t...|[nice, cup, tea, ...|(366,[10,20,24,38...| 14.0|\n",
      "|Traditional Medic...|Prompt delivery. ...|    8|[prompt, delivery...|[prompt, delivery...|(366,[6,7,13,24,3...| 17.0|\n",
      "|Beech-Nut Just Or...|I am one of those...|    6|[i, am, one, of, ...|[one, moms, likes...|(366,[6,7,14,22,2...| 32.0|\n",
      "|Great Lakes Gelat...|Bought this befor...|    7|[bought, this, be...|[bought, able, pu...|(366,[3,44,80,97,...| 19.0|\n",
      "|Crazy Cups Flavor...|Yummy coffee pods...|    6|[yummy, coffee, p...|[yummy, coffee, p...|(366,[4,20,26,43,...| 34.0|\n",
      "|Jif Creamy Peanut...|Iâ€™m a member of...|   11|[i, m, a, member,...|[m, member, crowd...|(366,[0,1,5,6,7,8...|  7.0|\n",
      "|Viva Naturals Org...|my purpose for bu...|   17|[my, purpose, for...|[purpose, buying,...|(366,[13,21,33,47...|  4.0|\n",
      "|Sherpa Pink Gourm...|I loved the Himal...|    8|[i, loved, the, h...|[loved, himalayan...|(366,[2,4,20,21,2...| 15.0|\n",
      "|Crazy Cups Flavor...|Prompt delivery (...|    6|[prompt, delivery...|[prompt, delivery...|(366,[3,22,29,43,...| 34.0|\n",
      "|Orgain Organic Pl...|Good taste and GM...|    8|[good, taste, and...|[good, taste, gmo...|(366,[2,3,6,10,13...| 11.0|\n",
      "|Orgain Organic Pl...|All of the people...|    8|[all, of, the, pe...|[people, complain...|(366,[2,6,10,20,4...| 11.0|\n",
      "|V8 V-Fusion +Ener...|I was afraid of t...|   10|[i, was, afraid, ...|[afraid, trying, ...|(366,[7,13,29,30,...|  8.0|\n",
      "|Organic Matcha Gr...|Taste is a 10/10 ...|    6|[taste, is, a, as...|[taste, far, gree...|(366,[6,21,24,148...| 33.0|\n",
      "|Brooklyn Beans Si...|I drink coffee fr...|    6|[i, drink, coffee...|[drink, coffee, k...|(366,[3,10,13,26,...| 28.0|\n",
      "|Matcha DNA Certif...|Bitter, coarse Ma...|    8|[bitter, coarse, ...|[bitter, coarse, ...|(366,[8,11,77,81,...| 12.0|\n",
      "|Matcha Green Tea ...|I've been searchi...|   11|[i, ve, been, sea...|[ve, searching, p...|(366,[6,24,49,52,...|  6.0|\n",
      "|Coffee Variety Sa...|It only had coffe...|    7|[it, only, had, c...|[coffee, part, re...|(366,[24,26,68,94...| 20.0|\n",
      "|Viva Naturals Org...|This is the first...|   17|[this, is, the, f...|[first, time, ve,...|(366,[2,3,4,11,13...|  4.0|\n",
      "|Zevia Naturally S...|I never really ju...|   17|[i, never, really...|[never, really, j...|(366,[7,8,10,13,2...|  2.0|\n",
      "|Viva Naturals Org...|I love this cocon...|   17|[i, love, this, c...|[love, coconut, o...|(366,[4,10,21,33,...|  4.0|\n",
      "|Healthworks Cacao...|I love this produ...|   17|[i, love, this, p...|[love, product, t...|(366,[4,6,11,13,3...|  3.0|\n",
      "|Mauna Loa Macadam...|great treat when ...|    6|[great, treat, wh...|[great, treat, ge...|(366,[2,39,271],[...| 31.0|\n",
      "|Jif Chocolate Nut...|Iâ€™m a member of...|   80|[i, m, a, member,...|[m, member, crowd...|(366,[0,1,5,7,8,9...|  0.0|\n",
      "|Healthworks Cacao...|Delicious!  Used ...|   17|[delicious, used,...|[delicious, used,...|(366,[3,10,18,29,...|  3.0|\n",
      "|San Francisco Bay...|Absolutely great ...|   28|[absolutely, grea...|[absolutely, grea...|(366,[2,10,26,63,...|  1.0|\n",
      "|Jif Chocolate Nut...|These are so good...|   80|[these, are, so, ...|[good, peanut, bu...|(366,[0,1,2,4,5,6...|  0.0|\n",
      "|KIND PLUS Gluten ...|These taste delic...|   10|[these, taste, de...|[taste, delicious...|(366,[6,29,35,63,...|  9.0|\n",
      "|San Francisco Bay...|Simply the best k...|   28|[simply, the, bes...|[simply, best, kc...|(366,[3,35,131,16...|  1.0|\n",
      "+--------------------+--------------------+-----+--------------------+--------------------+--------------------+-----+\n",
      "only showing top 100 rows\n",
      "\n"
     ]
    },
    {
     "data": {
      "text/plain": [
       "397"
      ]
     },
     "execution_count": 28,
     "metadata": {},
     "output_type": "execute_result"
    }
   ],
   "source": [
    "dataset_final.show(100)\n",
    "dataset_final.count()"
   ]
  },
  {
   "cell_type": "code",
   "execution_count": 29,
   "metadata": {},
   "outputs": [
    {
     "name": "stdout",
     "output_type": "stream",
     "text": [
      "+------------------------------+------------------------------+------------------------------+-----+----------+\n",
      "|                   review_body|                 product_title|                   probability|label|prediction|\n",
      "+------------------------------+------------------------------+------------------------------+-----+----------+\n",
      "|â€œIâ€™m a member of the Cr...|Jif Chocolate Nut Butter Al...|[0.37608665052178947,0.0621...|  0.0|       0.0|\n",
      "|The chocolate was is amazin...|Jif Chocolate Nut Butter Al...|[0.3749155375759375,0.06225...|  0.0|       0.0|\n",
      "|These Jif peanut butter bar...|Jif Chocolate Nut Butter Al...|[0.3749155375759375,0.06225...|  0.0|       0.0|\n",
      "|I was very excited to try t...|Jif Chocolate Nut Butter Al...|[0.3749155375759375,0.06225...|  0.0|       0.0|\n",
      "|These bars are really good ...|Jif Chocolate Nut Butter Al...|[0.3749155375759375,0.06225...|  0.0|       0.0|\n",
      "|I have to say that I alread...|Jif Chocolate Nut Butter Al...|[0.3749155375759375,0.06225...|  0.0|       0.0|\n",
      "|With about 8 grams of prote...|Jif Chocolate Nut Butter Al...|[0.3749155375759375,0.06225...|  0.0|       0.0|\n",
      "|â€œIâ€™m a member of the Cr...|Jif Chocolate Nut Butter Al...|[0.3749155375759375,0.06225...|  0.0|       0.0|\n",
      "|Iâ€™m a member of the Crowd...|Jif Creamy Peanut Butter Gr...|[0.3749155375759375,0.06225...|  7.0|       0.0|\n",
      "|I â€™m a member of the Crow...|Jif Chocolate Nut Butter Al...|[0.3749155375759375,0.06225...|  0.0|       0.0|\n",
      "|Iâ€™m a member of the Crowd...|Jif Chocolate Nut Butter Al...|[0.3749155375759375,0.06225...|  0.0|       0.0|\n",
      "|Iâ€™m a member of the Crowd...|Jif Chocolate Nut Butter Al...|[0.3749155375759375,0.06225...|  0.0|       0.0|\n",
      "|I am a peanut butter lover ...|Jif Chocolate Nut Butter Al...|[0.3749155375759375,0.06225...|  0.0|       0.0|\n",
      "|I love the flavor and consi...|Jif Chocolate Nut Butter Al...|[0.3749155375759375,0.06225...|  0.0|       0.0|\n",
      "|Iâ€™m a member of the Crowd...|Jif Chocolate Nut Butter Al...|[0.3749155375759375,0.06225...|  0.0|       0.0|\n",
      "|Love them. My daughter love...|Jif Chocolate Nut Butter Al...|[0.3749155375759375,0.06225...|  0.0|       0.0|\n",
      "|I got to try these free bec...|Jif Chocolate Nut Butter Al...|[0.3749155375759375,0.06225...|  0.0|       0.0|\n",
      "|I really enjoyed these bars...|Jif Chocolate Nut Butter Al...|[0.3749155375759375,0.06225...|  0.0|       0.0|\n",
      "|I am a member of Crowdtap a...|Jif Chocolate Nut Butter Al...|[0.3496789691329045,0.06477...|  0.0|       0.0|\n",
      "|I am a member of crowdtap a...|Jif Chocolate Nut Butter Al...|[0.3496789691329045,0.06477...|  0.0|       0.0|\n",
      "|I am a member of the Crowdt...|Jif Creamy Peanut Butter Gr...|[0.3496789691329045,0.06477...|  7.0|       0.0|\n",
      "|I got to try these granola ...|Jif Chocolate Nut Butter Al...|[0.3493583567412563,0.06480...|  0.0|       0.0|\n",
      "|I received these bars for f...|Jif Creamy Peanut Butter Gr...|[0.18085145686608134,0.0815...|  7.0|       0.0|\n",
      "|So I have been hearing all ...|Nutiva Organic Virgin Cocon...|[0.18085145686608134,0.0815...| 13.0|       0.0|\n",
      "|got it today. it is an add ...|Grove Square Cappuccino, Si...|[0.18085145686608134,0.0815...| 30.0|       0.0|\n",
      "|The best coffee I've ever m...|     San Francisco Bay One Cup|[0.16660723680466882,0.0830...|  1.0|       0.0|\n",
      "|Sent this product back. It ...|Organic Matcha Green Tea Po...|[0.16660723680466882,0.0830...| 33.0|       0.0|\n",
      "|Tastes SO disgusting!!!! Wi...| Amazing Grass Green Superfood|[0.1659149654674231,0.08307...| 10.0|       0.0|\n",
      "|I am one of those Moms that...|Beech-Nut Just Organic Stag...|[0.1659149654674231,0.08307...| 32.0|       0.0|\n",
      "|Use it every day in my morn...| Amazing Grass Green Superfood|[0.1659149654674231,0.08307...| 10.0|       0.0|\n",
      "|The Beech-Nut Organics food...|Beech-Nut Just Organic Stag...|[0.1659149654674231,0.08307...| 32.0|       0.0|\n",
      "|My favorite. I always use t...|      Celestial Seasonings Tea|[0.1659149654674231,0.08307...| 14.0|       0.0|\n",
      "|I add this to my son's wate...|Great Lakes Gelatin, Certif...|[0.1659149654674231,0.08307...| 19.0|       0.0|\n",
      "|Was looking for an alternat...| Amazing Grass Green Superfood|[0.1659149654674231,0.08307...| 10.0|       0.0|\n",
      "|We received a free sample o...|Beech-Nut Just Organic Stag...|[0.1659149654674231,0.08307...| 32.0|       0.0|\n",
      "|So much cleaner than real p...|Bell Plantation PB2 Powdere...|[0.1659149654674231,0.08307...| 26.0|       0.0|\n",
      "|since blueberries have so m...|      Celestial Seasonings Tea|[0.1659149654674231,0.08307...| 14.0|       0.0|\n",
      "|My fellow coworkers just lo...|Crazy Cups Flavored Coffee,...|[0.1659149654674231,0.08307...| 34.0|       0.0|\n",
      "|I love this product.  This ...|Great Lakes Gelatin, Certif...|[0.1659149654674231,0.08307...| 19.0|       0.0|\n",
      "|I love this stuff...it is s...|Healthworks Cacao Powder Pa...|[0.1659149654674231,0.08307...|  3.0|       0.0|\n",
      "|a healthy way to get your c...|Healthworks Cacao Powder Pa...|[0.1659149654674231,0.08307...|  3.0|       0.0|\n",
      "|For those of you that DON'T...|BeanBoozled Spinner Jelly B...|[0.1659149654674231,0.08307...| 35.0|       0.0|\n",
      "|da hump seebs so good to ha...|Just Hemp Foods, 100% Natur...|[0.1659149654674231,0.08307...| 25.0|       0.0|\n",
      "|Delicious!! Only downside, ...|Bell Plantation PB2 Powdere...|[0.1659149654674231,0.08307...| 26.0|       0.0|\n",
      "|Yummy. I used this product ...|Bell Plantation PB2 Powdere...|[0.1659149654674231,0.08307...| 26.0|       0.0|\n",
      "|Arrived as indicated. This ...|      Celestial Seasonings Tea|[0.1659149654674231,0.08307...| 14.0|       0.0|\n",
      "|Finished the whole bag in o...|Mauna Loa Macadamias, 11 Ou...|[0.1659149654674231,0.08307...| 31.0|       0.0|\n",
      "|Good selection....but, read...|Coffee Variety Sampler Pack...|[0.1659149654674231,0.08307...| 20.0|       0.0|\n",
      "|We have tried several of th...|Crazy Cups Flavored Coffee,...|[0.1659149654674231,0.08307...| 34.0|       0.0|\n",
      "|Nice flavor with a fruity a...|           Davidson's Tea Bulk|[0.1659149654674231,0.08307...| 23.0|       0.0|\n",
      "|This is on a monthly subscr...|     San Francisco Bay One Cup|[0.1659149654674231,0.08307...|  1.0|       0.0|\n",
      "|It is very tasty and mom lo...|Grove Square Cappuccino, Si...|[0.1659149654674231,0.08307...| 30.0|       0.0|\n",
      "|The taste is delicious and ...|Healthworks Cacao Powder Pa...|[0.1659149654674231,0.08307...|  3.0|       0.0|\n",
      "|Very happy with this produc...|Healthworks Cacao Powder Pa...|[0.1659149654674231,0.08307...|  3.0|       0.0|\n",
      "|FANTASTIC!!!! U can add thi...|Healthworks Chia Seeds 3lb ...|[0.1659149654674231,0.08307...|  5.0|       0.0|\n",
      "|Package is chock full of go...|Healthworks Chia Seeds 3lb ...|[0.1659149654674231,0.08307...|  5.0|       0.0|\n",
      "|Delicious, but the Cucumber...|IZZE Fortified Sparkling Ju...|[0.1659149654674231,0.08307...| 29.0|       0.0|\n",
      "|These are SO YUMMY! They ar...|Jif Chocolate Nut Butter Al...|[0.1659149654674231,0.08307...|  0.0|       0.0|\n",
      "|happy with product will ord...|Just Hemp Foods, 100% Natur...|[0.1659149654674231,0.08307...| 25.0|       0.0|\n",
      "|I had to bend the metal bec...|K-cup Coffee Pod Storage sp...|[0.1659149654674231,0.08307...| 21.0|       0.0|\n",
      "|Kind Bars, a regular staple...|KIND Bars, Dark Chocolate N...|[0.1659149654674231,0.08307...| 22.0|       0.0|\n",
      "|I absolutely love these bar...|    KIND PLUS Gluten Free Bars|[0.1659149654674231,0.08307...|  9.0|       0.0|\n",
      "|The bar sticks to the wrapp...|    KIND PLUS Gluten Free Bars|[0.1659149654674231,0.08307...|  9.0|       0.0|\n",
      "|A little goes along way. Ma...|Matcha DNA Certified Organi...|[0.1659149654674231,0.08307...| 12.0|       0.0|\n",
      "|Great product.  Reviews wer...|       Matcha Green Tea Powder|[0.1659149654674231,0.08307...|  6.0|       0.0|\n",
      "|My fault for not reading cl...|      Celestial Seasonings Tea|[0.1659149654674231,0.08307...| 14.0|       0.0|\n",
      "|Good macadamia nuts are har...|Mauna Loa Macadamias, 11 Ou...|[0.1659149654674231,0.08307...| 31.0|       0.0|\n",
      "|I do love these nuts, but t...|Mauna Loa Macadamias, 11 Ou...|[0.1659149654674231,0.08307...| 31.0|       0.0|\n",
      "|great treat when I get that...|Mauna Loa Macadamias, 11 Ou...|[0.1659149654674231,0.08307...| 31.0|       0.0|\n",
      "|Love this except I learned ...|Coffee Variety Sampler Pack...|[0.1659149654674231,0.08307...| 20.0|       0.0|\n",
      "|Great amazing product! I us...|Nutiva Organic Virgin Cocon...|[0.1659149654674231,0.08307...| 13.0|       0.0|\n",
      "|I was extremely happy with ...|Organic Matcha Green Tea Po...|[0.1659149654674231,0.08307...| 33.0|       0.0|\n",
      "|A lot stronger than what I ...|     San Francisco Bay One Cup|[0.1659149654674231,0.08307...|  1.0|       0.0|\n",
      "|This tea has a definite ear...|           Davidson's Tea Bulk|[0.1659149654674231,0.08307...| 23.0|       0.0|\n",
      "|Great taste. Great salt. Gr...|Sherpa Pink Gourmet Himalay...|[0.1659149654674231,0.08307...| 15.0|       0.0|\n",
      "|This is my second order of ...|    Sherpa Pink Himalayan Salt|[0.1659149654674231,0.08307...| 16.0|       0.0|\n",
      "|The worst &#34;Earl Grey&#3...|                      Twinings|[0.1659149654674231,0.08307...| 27.0|       0.0|\n",
      "|Delivered quickly and is qu...|Healthworks Cacao Powder Pa...|[0.1659149654674231,0.08307...|  3.0|       0.0|\n",
      "|Very tasty in cooking and p...|Healthworks Cacao Powder Pa...|[0.1659149654674231,0.08307...|  3.0|       0.0|\n",
      "|Very happy with the chia se...|Healthworks Chia Seeds 3lb ...|[0.1659149654674231,0.08307...|  5.0|       0.0|\n",
      "|Im a choosie Mother, and I ...|Jif Chocolate Nut Butter Al...|[0.1659149654674231,0.08307...|  0.0|       0.0|\n",
      "|One of the Healthiest foods...|Just Hemp Foods, 100% Natur...|[0.1659149654674231,0.08307...| 25.0|       0.0|\n",
      "|Great product, great price,...|KIND Bars, Dark Chocolate N...|[0.1659149654674231,0.08307...| 22.0|       0.0|\n",
      "|Great to stash in your desk...|    KIND PLUS Gluten Free Bars|[0.1659149654674231,0.08307...|  9.0|       0.0|\n",
      "|Love these and couldn't bea...|    KIND PLUS Gluten Free Bars|[0.1659149654674231,0.08307...|  9.0|       0.0|\n",
      "|These taste delicious, and ...|    KIND PLUS Gluten Free Bars|[0.1659149654674231,0.08307...|  9.0|       0.0|\n",
      "|Great product, arrived on t...|Matcha DNA Certified Organi...|[0.1659149654674231,0.08307...| 12.0|       0.0|\n",
      "|I am enjoying my every morn...|       Matcha Green Tea Powder|[0.1659149654674231,0.08307...|  6.0|       0.0|\n",
      "|I've never tried matcha bef...|       Matcha Green Tea Powder|[0.1659149654674231,0.08307...|  6.0|       0.0|\n",
      "|Yes love the tea.  Gives me...|       Matcha Green Tea Powder|[0.1659149654674231,0.08307...|  6.0|       0.0|\n",
      "|What can I say, these are s...|Mauna Loa Macadamias, 11 Ou...|[0.1659149654674231,0.08307...| 31.0|       0.0|\n",
      "|The best damn peanut brittl...|Ms. Beehaven's Brittle In C...|[0.1659149654674231,0.08307...| 18.0|       0.0|\n",
      "|Your search is over! This i...|Ms. Beehaven's Brittle In C...|[0.1659149654674231,0.08307...| 18.0|       0.0|\n",
      "|Buy this product a lot  rea...|Nutiva Organic Virgin Cocon...|[0.1659149654674231,0.08307...| 13.0|       0.0|\n",
      "|My wife and I tried this pr...|Orgain Organic Plant Based ...|[0.1659149654674231,0.08307...| 11.0|       0.0|\n",
      "|This green tea tastes so go...|Organic Matcha Green Tea Po...|[0.1659149654674231,0.08307...| 33.0|       0.0|\n",
      "|Excellent coffee and you ca...|     San Francisco Bay One Cup|[0.1659149654674231,0.08307...|  1.0|       0.0|\n",
      "|I love this coffee!  It's n...|     San Francisco Bay One Cup|[0.1659149654674231,0.08307...|  1.0|       0.0|\n",
      "|Lost 3.4 lbs in three weeks...|     San Francisco Bay One Cup|[0.1659149654674231,0.08307...|  1.0|       0.0|\n",
      "|Effectiveness: I've been dr...|   Traditional Medicinals  Tea|[0.1659149654674231,0.08307...| 17.0|       0.0|\n",
      "+------------------------------+------------------------------+------------------------------+-----+----------+\n",
      "only showing top 100 rows\n",
      "\n"
     ]
    }
   ],
   "source": [
    "from pyspark.ml.classification import LogisticRegression\n",
    "\n",
    "lrt = LogisticRegression(maxIter=20, regParam=0.3, elasticNetParam=0.8)\n",
    "lrModelt = lrt.fit(trainingData_t)\n",
    "predictions = lrModelt.transform(testData_t)\n",
    "predictions.filter(predictions['prediction'] == 0) \\\n",
    "    .select(\"review_body\",\"product_title\",\"probability\",\"label\",\"prediction\") \\\n",
    "    .orderBy(\"probability\", ascending=False) \\\n",
    "    .show(n = 100, truncate = 30)"
   ]
  },
  {
   "cell_type": "code",
   "execution_count": 30,
   "metadata": {},
   "outputs": [
    {
     "data": {
      "text/plain": [
       "0.0568075117370892"
      ]
     },
     "execution_count": 30,
     "metadata": {},
     "output_type": "execute_result"
    }
   ],
   "source": [
    "from pyspark.ml.evaluation import MulticlassClassificationEvaluator\n",
    "evaluator = MulticlassClassificationEvaluator(predictionCol=\"prediction\")\n",
    "evaluator.evaluate(predictions)"
   ]
  },
  {
   "cell_type": "code",
   "execution_count": null,
   "metadata": {},
   "outputs": [],
   "source": []
  },
  {
   "cell_type": "code",
   "execution_count": null,
   "metadata": {},
   "outputs": [],
   "source": []
  }
 ],
 "metadata": {
  "kernelspec": {
   "display_name": "Python 3",
   "language": "python",
   "name": "python3"
  },
  "language_info": {
   "codemirror_mode": {
    "name": "ipython",
    "version": 3
   },
   "file_extension": ".py",
   "mimetype": "text/x-python",
   "name": "python",
   "nbconvert_exporter": "python",
   "pygments_lexer": "ipython3",
   "version": "3.6.4"
  }
 },
 "nbformat": 4,
 "nbformat_minor": 2
}
