{
 "cells": [
  {
   "cell_type": "code",
   "execution_count": 4,
   "metadata": {},
   "outputs": [],
   "source": [
    "import os\n",
    "import findspark\n",
    "os.environ['PYSPARK_SUBMIT_ARGS'] = (\n",
    "    \"--repositories http://repo.hortonworks.com/content/groups/public/ \"\n",
    "    \"--packages com.hortonworks:shc-core:1.1.1-2.1-s_2.11 \"\n",
    "    \" pyspark-shell\")\n",
    "findspark.init()\n",
    "from pyspark import SparkContext\n",
    "from pyspark.sql import SQLContext\n",
    "import json"
   ]
  },
  {
   "cell_type": "code",
   "execution_count": 5,
   "metadata": {},
   "outputs": [],
   "source": [
    "sc = SparkContext()\n",
    "sqlc = SQLContext(sc)"
   ]
  },
  {
   "cell_type": "code",
   "execution_count": 6,
   "metadata": {},
   "outputs": [],
   "source": [
    "data_source_format = 'org.apache.spark.sql.execution.datasources.hbase'\n",
    "TABLE = \"20181210_224422_alexdziena_tweets\"\n",
    "#TABLE = \"20181212_030403_alexdziena_tweets\""
   ]
  },
  {
   "cell_type": "code",
   "execution_count": 7,
   "metadata": {},
   "outputs": [],
   "source": [
    "catalog = json.dumps({\n",
    "    \"table\":{\"namespace\":\"default\", \"name\":TABLE},\n",
    "    \"rowkey\":\"row_id\",\n",
    "    \"columns\":{\n",
    "        \"row_id\":{\"cf\":\"rowkey\", \"col\":\"row_id\", \"type\":\"string\"},\n",
    "        \"category\":{\"cf\":\"tweet\", \"col\":\"category\", \"type\":\"string\"},\n",
    "        \"contributors\":{\"cf\":\"tweet\", \"col\":\"contributors\", \"type\":\"string\"},\n",
    "        \"coordinates\":{\"cf\":\"tweet\", \"col\":\"coordinates\", \"type\":\"string\"},\n",
    "        \"created_at\":{\"cf\":\"tweet\", \"col\":\"created_at\", \"type\":\"string\"},\n",
    "        \"display_text_range\":{\"cf\":\"tweet\", \"col\":\"display_text_range\", \"type\":\"string\"},\n",
    "        \"entities\":{\"cf\":\"tweet\", \"col\":\"entities\", \"type\":\"string\"},\n",
    "        \"extended_tweet\":{\"cf\":\"tweet\", \"col\":\"extended_tweet\", \"type\":\"string\"},\n",
    "        \"favorite_count\":{\"cf\":\"tweet\", \"col\":\"favorite_count\", \"type\":\"bigint\"},\n",
    "        \"favorited\":{\"cf\":\"tweet\", \"col\":\"favorited\", \"type\":\"boolean\"},\n",
    "        \"filter_level\":{\"cf\":\"tweet\", \"col\":\"filter_level\", \"type\":\"string\"},\n",
    "        \"geo\":{\"cf\":\"tweet\", \"col\":\"geo\", \"type\":\"string\"},\n",
    "        \"id\":{\"cf\":\"tweet\", \"col\":\"id\", \"type\":\"bigint\"},\n",
    "        \"in_reply_to_screen_name\":{\"cf\":\"tweet\", \"col\":\"in_reply_to_screen_name\", \"type\":\"string\"},\n",
    "        \"in_reply_to_status_id\":{\"cf\":\"tweet\", \"col\":\"in_reply_to_status_id\", \"type\":\"string\"},\n",
    "        \"in_reply_to_status_id_str\":{\"cf\":\"tweet\", \"col\":\"in_reply_to_status_id_str\", \"type\":\"string\"},\n",
    "        \"in_reply_to_user_id\":{\"cf\":\"tweet\", \"col\":\"in_reply_to_user_id\", \"type\":\"string\"},\n",
    "        \"in_reply_to_user_id_str\":{\"cf\":\"tweet\", \"col\":\"in_reply_to_user_id_str\", \"type\":\"string\"},\n",
    "        \"is_quote_status\":{\"cf\":\"tweet\", \"col\":\"is_quote_status\", \"type\":\"boolean\"},\n",
    "        \"lang\":{\"cf\":\"tweet\", \"col\":\"lang\", \"type\":\"string\"},\n",
    "        \"place\":{\"cf\":\"tweet\", \"col\":\"place\", \"type\":\"string\"},\n",
    "        \"quote_count\":{\"cf\":\"tweet\", \"col\":\"quote_count\", \"type\":\"bigint\"},\n",
    "        \"reply_count\":{\"cf\":\"tweet\", \"col\":\"reply_count\", \"type\":\"bigint\"},\n",
    "        \"retweet_count\":{\"cf\":\"tweet\", \"col\":\"retweet_count\", \"type\":\"bigint\"},\n",
    "        \"retweeted\":{\"cf\":\"tweet\", \"col\":\"retweeted\", \"type\":\"boolean\"},\n",
    "        \"source\":{\"cf\":\"tweet\", \"col\":\"source\", \"type\":\"string\"},\n",
    "        \"text\":{\"cf\":\"tweet\", \"col\":\"text\", \"type\":\"string\"},\n",
    "        \"timestamp_ms\":{\"cf\":\"tweet\", \"col\":\"timestamp_ms\", \"type\":\"bigint\"},\n",
    "        \"truncated\":{\"cf\":\"tweet\", \"col\":\"truncated\", \"type\":\"boolean\"},\n",
    "    }\n",
    "})\n",
    "\n",
    "\n",
    "# Writing\n",
    "#df.write\\\n",
    "#.options(catalog=catalog)\\  # alternatively: .option('catalog', catalog)\n",
    "#.format(data_source_format)\\\n",
    "#.save()\n",
    "\n",
    "# Reading\n",
    "df = sqlc.read\\\n",
    ".options(catalog=catalog)\\\n",
    ".format(data_source_format)\\\n",
    ".load()\n",
    "\n"
   ]
  },
  {
   "cell_type": "code",
   "execution_count": 8,
   "metadata": {},
   "outputs": [
    {
     "name": "stdout",
     "output_type": "stream",
     "text": [
      "root\n",
      " |-- row_id: string (nullable = true)\n",
      " |-- category: string (nullable = true)\n",
      " |-- contributors: string (nullable = true)\n",
      " |-- coordinates: string (nullable = true)\n",
      " |-- created_at: string (nullable = true)\n",
      " |-- display_text_range: string (nullable = true)\n",
      " |-- entities: string (nullable = true)\n",
      " |-- extended_tweet: string (nullable = true)\n",
      " |-- favorite_count: long (nullable = true)\n",
      " |-- favorited: boolean (nullable = true)\n",
      " |-- filter_level: string (nullable = true)\n",
      " |-- geo: string (nullable = true)\n",
      " |-- id: long (nullable = true)\n",
      " |-- in_reply_to_screen_name: string (nullable = true)\n",
      " |-- in_reply_to_status_id: string (nullable = true)\n",
      " |-- in_reply_to_status_id_str: string (nullable = true)\n",
      " |-- in_reply_to_user_id: string (nullable = true)\n",
      " |-- in_reply_to_user_id_str: string (nullable = true)\n",
      " |-- is_quote_status: boolean (nullable = true)\n",
      " |-- lang: string (nullable = true)\n",
      " |-- place: string (nullable = true)\n",
      " |-- quote_count: long (nullable = true)\n",
      " |-- reply_count: long (nullable = true)\n",
      " |-- retweet_count: long (nullable = true)\n",
      " |-- retweeted: boolean (nullable = true)\n",
      " |-- source: string (nullable = true)\n",
      " |-- text: string (nullable = true)\n",
      " |-- timestamp_ms: long (nullable = true)\n",
      " |-- truncated: boolean (nullable = true)\n",
      "\n"
     ]
    },
    {
     "data": {
      "text/plain": [
       "Row(row_id='1068445295007084544', category='electronics', contributors='None', coordinates='None', created_at='Fri Nov 30 10:03:03 +0000 2018', display_text_range=None, entities=None, extended_tweet=None, favorite_count=52, favorited=False, filter_level=None, geo='None', id=1068445295007084544, in_reply_to_screen_name='None', in_reply_to_status_id='None', in_reply_to_status_id_str='None', in_reply_to_user_id='None', in_reply_to_user_id_str='None', is_quote_status=False, lang='en', place='None', quote_count=None, reply_count=None, retweet_count=20, retweeted=False, source='<a href=\"http://twitter.com\" rel=\"nofollow\">Twitter Web Client</a>', text='Sony is releasing limited edition high quality wireless headphones and the Sony Walkman A series for… https://t.co/osW6rFWEA3', timestamp_ms=None, truncated=False)"
      ]
     },
     "execution_count": 8,
     "metadata": {},
     "output_type": "execute_result"
    }
   ],
   "source": [
    "df.printSchema()\n",
    "df.head()"
   ]
  },
  {
   "cell_type": "code",
   "execution_count": 26,
   "metadata": {},
   "outputs": [
    {
     "name": "stdout",
     "output_type": "stream",
     "text": [
      "+-------------------+------------+----+-----------+--------------------+----+--------------------+-----------+--------------------+-------------------+--------------------+--------------+-----------+-------------+-----------+---------+------------+\n",
      "|             row_id|contributors| geo|coordinates|              source|lang|          created_at|   category|                text|                 id|               place|favorite_count|reply_count|retweet_count|quote_count|retweeted|timestamp_ms|\n",
      "+-------------------+------------+----+-----------+--------------------+----+--------------------+-----------+--------------------+-------------------+--------------------+--------------+-----------+-------------+-----------+---------+------------+\n",
      "|1068445295007084544|        None|None|       None|<a href=\"http://t...|  en|Fri Nov 30 10:03:...|electronics|Sony is releasing...|1068445295007084544|                None|            52|       null|           20|       null|    false|        null|\n",
      "|1068450913503846400|        None|None|       None|<a href=\"http://t...|  en|Fri Nov 30 10:25:...|video_games|A #FireEmblem Exp...|1068450913503846400|                None|             2|       null|            1|       null|    false|        null|\n",
      "|1068466086843215872|        None|None|       None|<a href=\"http://t...|  en|Fri Nov 30 11:25:...|video_games|The release of Nu...|1068466086843215872|                None|             3|       null|            2|       null|    false|        null|\n",
      "|1068468961199751168|        None|None|       None|<a href=\"http://t...|  en|Fri Nov 30 11:37:...|video_games|Red Dead Redempti...|1068468961199751168|                None|             6|       null|            1|       null|    false|        null|\n",
      "|1068469590462730240|        None|None|       None|<a href=\"http://t...|  en|Fri Nov 30 11:39:...|       toys|@N7Patrick We won...|1068469590462730240|                None|             2|       null|            0|       null|    false|        null|\n",
      "|1068469889340448768|        None|None|       None|<a href=\"http://t...|  en|Fri Nov 30 11:40:...|video_games|BetConstruct and ...|1068469889340448768|                None|             2|       null|            1|       null|    false|        null|\n",
      "|1068470626611068928|        None|None|       None|<a href=\"http://t...|  en|Fri Nov 30 11:43:...|video_games|@AramKuredjian Re...|1068470626611068928|                None|             1|       null|            0|       null|    false|        null|\n",
      "|1068472383521153024|        None|None|       None|<a href=\"http://t...|  en|Fri Nov 30 11:50:...|video_games|@Christiano_1986 ...|1068472383521153024|                None|             1|       null|            0|       null|    false|        null|\n",
      "|1068473436270460928|        None|None|       None|<a href=\"http://t...|  en|Fri Nov 30 11:54:...|video_games|@PocketGina @enth...|1068473436270460928|                None|             2|       null|            0|       null|    false|        null|\n",
      "|1068473981508837381|        None|None|       None|<a href=\"http://t...|  en|Fri Nov 30 11:57:...|electronics|Happy2x Birthday ...|1068473981508837381|{'attributes': {}...|             5|       null|            1|       null|    false|        null|\n",
      "+-------------------+------------+----+-----------+--------------------+----+--------------------+-----------+--------------------+-------------------+--------------------+--------------+-----------+-------------+-----------+---------+------------+\n",
      "only showing top 10 rows\n",
      "\n"
     ]
    }
   ],
   "source": [
    "dfsummed=df.selectExpr(\n",
    "    \"row_id\",\n",
    "    \"contributors\",\n",
    "    \"geo\",\n",
    "    \"coordinates\",\n",
    "    \"source\",\n",
    "    \"lang\",\n",
    "    \"created_at\",\n",
    "    \"category\",\n",
    "    \"text\",\n",
    "    \"id\",\n",
    "    \"place\",\n",
    "    \"favorite_count\",\n",
    "    \"reply_count\",\n",
    "    \"retweet_count\",\n",
    "    \"quote_count\",\n",
    "    \"retweeted\",\n",
    "    \"timestamp_ms\"\n",
    ").where(\"favorite_count > 0 or retweet_count > 0\").show(10)"
   ]
  },
  {
   "cell_type": "markdown",
   "metadata": {},
   "source": [
    "# Visually explore the result"
   ]
  },
  {
   "cell_type": "markdown",
   "metadata": {},
   "source": [
    "#Convert Spark Dataframe into Panda to use matplotlib"
   ]
  },
  {
   "cell_type": "code",
   "execution_count": 9,
   "metadata": {},
   "outputs": [],
   "source": [
    "%matplotlib inline\n",
    "\n",
    "import pandas as pd\n",
    "import numpy as np\n",
    "import matplotlib.pyplot as plt\n",
    "\n",
    "pd_df = (df.selectExpr(\n",
    "    \"row_id\",\n",
    "    \"source\",\n",
    "    \"lang\",\n",
    "    \"created_at\",\n",
    "    \"category\",\n",
    "    \"text\",\n",
    "    \"id\",\n",
    "    \"place\",\n",
    "    \"favorite_count\",\n",
    "    \"retweet_count\"\n",
    ").where(\"favorite_count > 0 or retweet_count > 0\")).toPandas()\n",
    "\n",
    "#plt.show(display(df.select(\"category\",\"favorite_count\").groupBy(\"category\").agg(avg(\"favorite_count\"))))"
   ]
  },
  {
   "cell_type": "code",
   "execution_count": 29,
   "metadata": {},
   "outputs": [],
   "source": [
    "pd_df.to_csv(\"tweetssummary\")"
   ]
  },
  {
   "cell_type": "code",
   "execution_count": null,
   "metadata": {},
   "outputs": [],
   "source": [
    "\n",
    "pd_df = (df.selectExpr(\n",
    "    \"text\"\n",
    ").where(\"favorite_count > 0 or retweet_count > 0\")).toPandas()\n",
    "pd_df.head()"
   ]
  },
  {
   "cell_type": "code",
   "execution_count": 16,
   "metadata": {},
   "outputs": [
    {
     "name": "stdout",
     "output_type": "stream",
     "text": [
      "Collecting wordcloud\n",
      "\u001b[?25l  Downloading https://files.pythonhosted.org/packages/ae/af/849edf14d573eba9c8082db898ff0d090428d9485371cc4fe21a66717ad2/wordcloud-1.5.0-cp36-cp36m-manylinux1_x86_64.whl (361kB)\n",
      "\u001b[K    100% |████████████████████████████████| 368kB 5.1MB/s ta 0:00:01\n",
      "\u001b[?25hRequirement already satisfied: numpy>=1.6.1 in ./anaconda3/lib/python3.6/site-packages (from wordcloud) (1.14.0)\n",
      "Requirement already satisfied: pillow in ./anaconda3/lib/python3.6/site-packages (from wordcloud) (5.0.0)\n",
      "Installing collected packages: wordcloud\n",
      "Successfully installed wordcloud-1.5.0\n"
     ]
    }
   ],
   "source": [
    "import sys\n",
    "!{sys.executable} -m pip install wordcloud"
   ]
  },
  {
   "cell_type": "code",
   "execution_count": null,
   "metadata": {},
   "outputs": [],
   "source": [
    "nltk.download(\"stopwords\")\n",
    "from wordcloud import WordCloud\n",
    "from nltk.corpus import stopwords\n",
    "\n",
    "cloud = WordCloud(background_color=\"white\", max_words=20, stopwords=stopwords.words('english'))\n",
    "\n",
    "positive_cloud = cloud.generate(df.loc[pd_df.classe == 'text'].str.cat(sep='\\n'))\n",
    "plt.figure()\n",
    "plt.imshow(positive_cloud)\n",
    "plt.axis(\"off\")\n",
    "plt.show()"
   ]
  },
  {
   "cell_type": "code",
   "execution_count": 14,
   "metadata": {},
   "outputs": [
    {
     "ename": "KeyError",
     "evalue": "'original_question'",
     "output_type": "error",
     "traceback": [
      "\u001b[0;31m---------------------------------------------------------------------------\u001b[0m",
      "\u001b[0;31mKeyError\u001b[0m                                  Traceback (most recent call last)",
      "\u001b[0;32m~/anaconda3/lib/python3.6/site-packages/pandas/core/indexes/base.py\u001b[0m in \u001b[0;36mget_loc\u001b[0;34m(self, key, method, tolerance)\u001b[0m\n\u001b[1;32m   2524\u001b[0m             \u001b[0;32mtry\u001b[0m\u001b[0;34m:\u001b[0m\u001b[0;34m\u001b[0m\u001b[0m\n\u001b[0;32m-> 2525\u001b[0;31m                 \u001b[0;32mreturn\u001b[0m \u001b[0mself\u001b[0m\u001b[0;34m.\u001b[0m\u001b[0m_engine\u001b[0m\u001b[0;34m.\u001b[0m\u001b[0mget_loc\u001b[0m\u001b[0;34m(\u001b[0m\u001b[0mkey\u001b[0m\u001b[0;34m)\u001b[0m\u001b[0;34m\u001b[0m\u001b[0m\n\u001b[0m\u001b[1;32m   2526\u001b[0m             \u001b[0;32mexcept\u001b[0m \u001b[0mKeyError\u001b[0m\u001b[0;34m:\u001b[0m\u001b[0;34m\u001b[0m\u001b[0m\n",
      "\u001b[0;32mpandas/_libs/index.pyx\u001b[0m in \u001b[0;36mpandas._libs.index.IndexEngine.get_loc\u001b[0;34m()\u001b[0m\n",
      "\u001b[0;32mpandas/_libs/index.pyx\u001b[0m in \u001b[0;36mpandas._libs.index.IndexEngine.get_loc\u001b[0;34m()\u001b[0m\n",
      "\u001b[0;32mpandas/_libs/hashtable_class_helper.pxi\u001b[0m in \u001b[0;36mpandas._libs.hashtable.PyObjectHashTable.get_item\u001b[0;34m()\u001b[0m\n",
      "\u001b[0;32mpandas/_libs/hashtable_class_helper.pxi\u001b[0m in \u001b[0;36mpandas._libs.hashtable.PyObjectHashTable.get_item\u001b[0;34m()\u001b[0m\n",
      "\u001b[0;31mKeyError\u001b[0m: 'original_question'",
      "\nDuring handling of the above exception, another exception occurred:\n",
      "\u001b[0;31mKeyError\u001b[0m                                  Traceback (most recent call last)",
      "\u001b[0;32m<ipython-input-14-3d4568ca3eb2>\u001b[0m in \u001b[0;36m<module>\u001b[0;34m()\u001b[0m\n\u001b[1;32m     39\u001b[0m \u001b[0;31m#stemmer = factory.create_stemmer()\u001b[0m\u001b[0;34m\u001b[0m\u001b[0;34m\u001b[0m\u001b[0m\n\u001b[1;32m     40\u001b[0m \u001b[0;34m\u001b[0m\u001b[0m\n\u001b[0;32m---> 41\u001b[0;31m \u001b[0mprocess\u001b[0m\u001b[0;34m(\u001b[0m\u001b[0mtemp_store_df\u001b[0m\u001b[0;34m)\u001b[0m\u001b[0;34m\u001b[0m\u001b[0m\n\u001b[0m\u001b[1;32m     42\u001b[0m \u001b[0;34m\u001b[0m\u001b[0m\n\u001b[1;32m     43\u001b[0m \u001b[0mfinal_store_df\u001b[0m \u001b[0;34m=\u001b[0m \u001b[0mtemp_store_df\u001b[0m\u001b[0;34m.\u001b[0m\u001b[0mcopy\u001b[0m\u001b[0;34m(\u001b[0m\u001b[0;34m)\u001b[0m\u001b[0;34m\u001b[0m\u001b[0m\n",
      "\u001b[0;32m<ipython-input-14-3d4568ca3eb2>\u001b[0m in \u001b[0;36mprocess\u001b[0;34m(df)\u001b[0m\n\u001b[1;32m     24\u001b[0m \u001b[0;32mdef\u001b[0m \u001b[0mprocess\u001b[0m\u001b[0;34m(\u001b[0m\u001b[0mdf\u001b[0m\u001b[0;34m)\u001b[0m\u001b[0;34m:\u001b[0m\u001b[0;34m\u001b[0m\u001b[0m\n\u001b[1;32m     25\u001b[0m     \u001b[0mdf_result\u001b[0m \u001b[0;34m=\u001b[0m \u001b[0mpd\u001b[0m\u001b[0;34m.\u001b[0m\u001b[0mDataFrame\u001b[0m\u001b[0;34m(\u001b[0m\u001b[0;34m)\u001b[0m\u001b[0;34m\u001b[0m\u001b[0m\n\u001b[0;32m---> 26\u001b[0;31m     \u001b[0mdf_result\u001b[0m\u001b[0;34m[\u001b[0m\u001b[0;34m'stem'\u001b[0m\u001b[0;34m]\u001b[0m \u001b[0;34m=\u001b[0m \u001b[0mdf\u001b[0m\u001b[0;34m[\u001b[0m\u001b[0;34m'original_question'\u001b[0m\u001b[0;34m]\u001b[0m\u001b[0;34m.\u001b[0m\u001b[0mapply\u001b[0m\u001b[0;34m(\u001b[0m\u001b[0;32mlambda\u001b[0m \u001b[0mx\u001b[0m\u001b[0;34m:\u001b[0m \u001b[0mstemmer\u001b[0m\u001b[0;34m.\u001b[0m\u001b[0mstem\u001b[0m\u001b[0;34m(\u001b[0m\u001b[0mx\u001b[0m\u001b[0;34m)\u001b[0m\u001b[0;34m)\u001b[0m\u001b[0;34m\u001b[0m\u001b[0m\n\u001b[0m\u001b[1;32m     27\u001b[0m     \u001b[0mdf_result\u001b[0m\u001b[0;34m[\u001b[0m\u001b[0;34m'no_punc'\u001b[0m\u001b[0;34m]\u001b[0m \u001b[0;34m=\u001b[0m \u001b[0mdf_result\u001b[0m\u001b[0;34m[\u001b[0m\u001b[0;34m'stem'\u001b[0m\u001b[0;34m]\u001b[0m\u001b[0;34m.\u001b[0m\u001b[0mapply\u001b[0m\u001b[0;34m(\u001b[0m\u001b[0;32mlambda\u001b[0m \u001b[0mx\u001b[0m\u001b[0;34m:\u001b[0m \u001b[0mx\u001b[0m\u001b[0;34m.\u001b[0m\u001b[0mlower\u001b[0m\u001b[0;34m(\u001b[0m\u001b[0;34m)\u001b[0m\u001b[0;34m.\u001b[0m\u001b[0mtranslate\u001b[0m\u001b[0;34m(\u001b[0m\u001b[0mstring\u001b[0m\u001b[0;34m.\u001b[0m\u001b[0mpunctuation\u001b[0m\u001b[0;34m)\u001b[0m\u001b[0;34m)\u001b[0m\u001b[0;34m\u001b[0m\u001b[0m\n\u001b[1;32m     28\u001b[0m     \u001b[0mdf_result\u001b[0m\u001b[0;34m[\u001b[0m\u001b[0;34m'word_token'\u001b[0m\u001b[0;34m]\u001b[0m \u001b[0;34m=\u001b[0m \u001b[0mdf_result\u001b[0m\u001b[0;34m[\u001b[0m\u001b[0;34m'no_punc'\u001b[0m\u001b[0;34m]\u001b[0m\u001b[0;34m.\u001b[0m\u001b[0mapply\u001b[0m\u001b[0;34m(\u001b[0m\u001b[0;32mlambda\u001b[0m \u001b[0mx\u001b[0m\u001b[0;34m:\u001b[0m \u001b[0mnltk\u001b[0m\u001b[0;34m.\u001b[0m\u001b[0mword_tokenize\u001b[0m\u001b[0;34m(\u001b[0m\u001b[0mx\u001b[0m\u001b[0;34m)\u001b[0m\u001b[0;34m)\u001b[0m\u001b[0;34m\u001b[0m\u001b[0m\n",
      "\u001b[0;32m~/anaconda3/lib/python3.6/site-packages/pandas/core/frame.py\u001b[0m in \u001b[0;36m__getitem__\u001b[0;34m(self, key)\u001b[0m\n\u001b[1;32m   2137\u001b[0m             \u001b[0;32mreturn\u001b[0m \u001b[0mself\u001b[0m\u001b[0;34m.\u001b[0m\u001b[0m_getitem_multilevel\u001b[0m\u001b[0;34m(\u001b[0m\u001b[0mkey\u001b[0m\u001b[0;34m)\u001b[0m\u001b[0;34m\u001b[0m\u001b[0m\n\u001b[1;32m   2138\u001b[0m         \u001b[0;32melse\u001b[0m\u001b[0;34m:\u001b[0m\u001b[0;34m\u001b[0m\u001b[0m\n\u001b[0;32m-> 2139\u001b[0;31m             \u001b[0;32mreturn\u001b[0m \u001b[0mself\u001b[0m\u001b[0;34m.\u001b[0m\u001b[0m_getitem_column\u001b[0m\u001b[0;34m(\u001b[0m\u001b[0mkey\u001b[0m\u001b[0;34m)\u001b[0m\u001b[0;34m\u001b[0m\u001b[0m\n\u001b[0m\u001b[1;32m   2140\u001b[0m \u001b[0;34m\u001b[0m\u001b[0m\n\u001b[1;32m   2141\u001b[0m     \u001b[0;32mdef\u001b[0m \u001b[0m_getitem_column\u001b[0m\u001b[0;34m(\u001b[0m\u001b[0mself\u001b[0m\u001b[0;34m,\u001b[0m \u001b[0mkey\u001b[0m\u001b[0;34m)\u001b[0m\u001b[0;34m:\u001b[0m\u001b[0;34m\u001b[0m\u001b[0m\n",
      "\u001b[0;32m~/anaconda3/lib/python3.6/site-packages/pandas/core/frame.py\u001b[0m in \u001b[0;36m_getitem_column\u001b[0;34m(self, key)\u001b[0m\n\u001b[1;32m   2144\u001b[0m         \u001b[0;31m# get column\u001b[0m\u001b[0;34m\u001b[0m\u001b[0;34m\u001b[0m\u001b[0m\n\u001b[1;32m   2145\u001b[0m         \u001b[0;32mif\u001b[0m \u001b[0mself\u001b[0m\u001b[0;34m.\u001b[0m\u001b[0mcolumns\u001b[0m\u001b[0;34m.\u001b[0m\u001b[0mis_unique\u001b[0m\u001b[0;34m:\u001b[0m\u001b[0;34m\u001b[0m\u001b[0m\n\u001b[0;32m-> 2146\u001b[0;31m             \u001b[0;32mreturn\u001b[0m \u001b[0mself\u001b[0m\u001b[0;34m.\u001b[0m\u001b[0m_get_item_cache\u001b[0m\u001b[0;34m(\u001b[0m\u001b[0mkey\u001b[0m\u001b[0;34m)\u001b[0m\u001b[0;34m\u001b[0m\u001b[0m\n\u001b[0m\u001b[1;32m   2147\u001b[0m \u001b[0;34m\u001b[0m\u001b[0m\n\u001b[1;32m   2148\u001b[0m         \u001b[0;31m# duplicate columns & possible reduce dimensionality\u001b[0m\u001b[0;34m\u001b[0m\u001b[0;34m\u001b[0m\u001b[0m\n",
      "\u001b[0;32m~/anaconda3/lib/python3.6/site-packages/pandas/core/generic.py\u001b[0m in \u001b[0;36m_get_item_cache\u001b[0;34m(self, item)\u001b[0m\n\u001b[1;32m   1840\u001b[0m         \u001b[0mres\u001b[0m \u001b[0;34m=\u001b[0m \u001b[0mcache\u001b[0m\u001b[0;34m.\u001b[0m\u001b[0mget\u001b[0m\u001b[0;34m(\u001b[0m\u001b[0mitem\u001b[0m\u001b[0;34m)\u001b[0m\u001b[0;34m\u001b[0m\u001b[0m\n\u001b[1;32m   1841\u001b[0m         \u001b[0;32mif\u001b[0m \u001b[0mres\u001b[0m \u001b[0;32mis\u001b[0m \u001b[0;32mNone\u001b[0m\u001b[0;34m:\u001b[0m\u001b[0;34m\u001b[0m\u001b[0m\n\u001b[0;32m-> 1842\u001b[0;31m             \u001b[0mvalues\u001b[0m \u001b[0;34m=\u001b[0m \u001b[0mself\u001b[0m\u001b[0;34m.\u001b[0m\u001b[0m_data\u001b[0m\u001b[0;34m.\u001b[0m\u001b[0mget\u001b[0m\u001b[0;34m(\u001b[0m\u001b[0mitem\u001b[0m\u001b[0;34m)\u001b[0m\u001b[0;34m\u001b[0m\u001b[0m\n\u001b[0m\u001b[1;32m   1843\u001b[0m             \u001b[0mres\u001b[0m \u001b[0;34m=\u001b[0m \u001b[0mself\u001b[0m\u001b[0;34m.\u001b[0m\u001b[0m_box_item_values\u001b[0m\u001b[0;34m(\u001b[0m\u001b[0mitem\u001b[0m\u001b[0;34m,\u001b[0m \u001b[0mvalues\u001b[0m\u001b[0;34m)\u001b[0m\u001b[0;34m\u001b[0m\u001b[0m\n\u001b[1;32m   1844\u001b[0m             \u001b[0mcache\u001b[0m\u001b[0;34m[\u001b[0m\u001b[0mitem\u001b[0m\u001b[0;34m]\u001b[0m \u001b[0;34m=\u001b[0m \u001b[0mres\u001b[0m\u001b[0;34m\u001b[0m\u001b[0m\n",
      "\u001b[0;32m~/anaconda3/lib/python3.6/site-packages/pandas/core/internals.py\u001b[0m in \u001b[0;36mget\u001b[0;34m(self, item, fastpath)\u001b[0m\n\u001b[1;32m   3841\u001b[0m \u001b[0;34m\u001b[0m\u001b[0m\n\u001b[1;32m   3842\u001b[0m             \u001b[0;32mif\u001b[0m \u001b[0;32mnot\u001b[0m \u001b[0misna\u001b[0m\u001b[0;34m(\u001b[0m\u001b[0mitem\u001b[0m\u001b[0;34m)\u001b[0m\u001b[0;34m:\u001b[0m\u001b[0;34m\u001b[0m\u001b[0m\n\u001b[0;32m-> 3843\u001b[0;31m                 \u001b[0mloc\u001b[0m \u001b[0;34m=\u001b[0m \u001b[0mself\u001b[0m\u001b[0;34m.\u001b[0m\u001b[0mitems\u001b[0m\u001b[0;34m.\u001b[0m\u001b[0mget_loc\u001b[0m\u001b[0;34m(\u001b[0m\u001b[0mitem\u001b[0m\u001b[0;34m)\u001b[0m\u001b[0;34m\u001b[0m\u001b[0m\n\u001b[0m\u001b[1;32m   3844\u001b[0m             \u001b[0;32melse\u001b[0m\u001b[0;34m:\u001b[0m\u001b[0;34m\u001b[0m\u001b[0m\n\u001b[1;32m   3845\u001b[0m                 \u001b[0mindexer\u001b[0m \u001b[0;34m=\u001b[0m \u001b[0mnp\u001b[0m\u001b[0;34m.\u001b[0m\u001b[0marange\u001b[0m\u001b[0;34m(\u001b[0m\u001b[0mlen\u001b[0m\u001b[0;34m(\u001b[0m\u001b[0mself\u001b[0m\u001b[0;34m.\u001b[0m\u001b[0mitems\u001b[0m\u001b[0;34m)\u001b[0m\u001b[0;34m)\u001b[0m\u001b[0;34m[\u001b[0m\u001b[0misna\u001b[0m\u001b[0;34m(\u001b[0m\u001b[0mself\u001b[0m\u001b[0;34m.\u001b[0m\u001b[0mitems\u001b[0m\u001b[0;34m)\u001b[0m\u001b[0;34m]\u001b[0m\u001b[0;34m\u001b[0m\u001b[0m\n",
      "\u001b[0;32m~/anaconda3/lib/python3.6/site-packages/pandas/core/indexes/base.py\u001b[0m in \u001b[0;36mget_loc\u001b[0;34m(self, key, method, tolerance)\u001b[0m\n\u001b[1;32m   2525\u001b[0m                 \u001b[0;32mreturn\u001b[0m \u001b[0mself\u001b[0m\u001b[0;34m.\u001b[0m\u001b[0m_engine\u001b[0m\u001b[0;34m.\u001b[0m\u001b[0mget_loc\u001b[0m\u001b[0;34m(\u001b[0m\u001b[0mkey\u001b[0m\u001b[0;34m)\u001b[0m\u001b[0;34m\u001b[0m\u001b[0m\n\u001b[1;32m   2526\u001b[0m             \u001b[0;32mexcept\u001b[0m \u001b[0mKeyError\u001b[0m\u001b[0;34m:\u001b[0m\u001b[0;34m\u001b[0m\u001b[0m\n\u001b[0;32m-> 2527\u001b[0;31m                 \u001b[0;32mreturn\u001b[0m \u001b[0mself\u001b[0m\u001b[0;34m.\u001b[0m\u001b[0m_engine\u001b[0m\u001b[0;34m.\u001b[0m\u001b[0mget_loc\u001b[0m\u001b[0;34m(\u001b[0m\u001b[0mself\u001b[0m\u001b[0;34m.\u001b[0m\u001b[0m_maybe_cast_indexer\u001b[0m\u001b[0;34m(\u001b[0m\u001b[0mkey\u001b[0m\u001b[0;34m)\u001b[0m\u001b[0;34m)\u001b[0m\u001b[0;34m\u001b[0m\u001b[0m\n\u001b[0m\u001b[1;32m   2528\u001b[0m \u001b[0;34m\u001b[0m\u001b[0m\n\u001b[1;32m   2529\u001b[0m         \u001b[0mindexer\u001b[0m \u001b[0;34m=\u001b[0m \u001b[0mself\u001b[0m\u001b[0;34m.\u001b[0m\u001b[0mget_indexer\u001b[0m\u001b[0;34m(\u001b[0m\u001b[0;34m[\u001b[0m\u001b[0mkey\u001b[0m\u001b[0;34m]\u001b[0m\u001b[0;34m,\u001b[0m \u001b[0mmethod\u001b[0m\u001b[0;34m=\u001b[0m\u001b[0mmethod\u001b[0m\u001b[0;34m,\u001b[0m \u001b[0mtolerance\u001b[0m\u001b[0;34m=\u001b[0m\u001b[0mtolerance\u001b[0m\u001b[0;34m)\u001b[0m\u001b[0;34m\u001b[0m\u001b[0m\n",
      "\u001b[0;32mpandas/_libs/index.pyx\u001b[0m in \u001b[0;36mpandas._libs.index.IndexEngine.get_loc\u001b[0;34m()\u001b[0m\n",
      "\u001b[0;32mpandas/_libs/index.pyx\u001b[0m in \u001b[0;36mpandas._libs.index.IndexEngine.get_loc\u001b[0;34m()\u001b[0m\n",
      "\u001b[0;32mpandas/_libs/hashtable_class_helper.pxi\u001b[0m in \u001b[0;36mpandas._libs.hashtable.PyObjectHashTable.get_item\u001b[0;34m()\u001b[0m\n",
      "\u001b[0;32mpandas/_libs/hashtable_class_helper.pxi\u001b[0m in \u001b[0;36mpandas._libs.hashtable.PyObjectHashTable.get_item\u001b[0;34m()\u001b[0m\n",
      "\u001b[0;31mKeyError\u001b[0m: 'original_question'"
     ]
    }
   ],
   "source": [
    "import multiprocessing as mp\n",
    "import time\n",
    "#from Sastrawi.Stemmer.StemmerFactory import StemmerFactory\n",
    "\n",
    "def change_digit(word):\n",
    "    if word.isdigit():\n",
    "        if str(word).startswith('08') or str(word).startswith('628'):\n",
    "            return 'xxhpnum'\n",
    "        elif str(word).startswith('120'):\n",
    "            return 'xxordernum'\n",
    "        else:\n",
    "            return 'xxothernum'\n",
    "    else:\n",
    "        return word\n",
    "\n",
    "def filter_word(word_token):\n",
    "  word_token = [change_digit(word) for word in word_token if word not in nltk.corpus.stopwords.words('indonesian')]\n",
    "  return word_token\n",
    "\n",
    "def filter_word_for_bq(word_token):\n",
    "  word_token = [word for word in word_token if word not in nltk.corpus.stopwords.words('indonesian') and not word.isdigit()]\n",
    "  return word_token\n",
    "\n",
    "def process(df):\n",
    "    df_result = pd.DataFrame()\n",
    "    df_result['stem'] = df['original_question'].apply(lambda x: stemmer.stem(x))\n",
    "    df_result['no_punc'] = df_result['stem'].apply(lambda x: x.lower().translate(string.punctuation))\n",
    "    df_result['word_token'] = df_result['no_punc'].apply(lambda x: nltk.word_tokenize(x))\n",
    "    df_result['word_token_filtered'] = df_result['word_token'].apply(lambda x: filter_word(x))\n",
    "    df_result['word_token_filtered_for_bq'] = df_result['word_token'].apply(lambda x: filter_word_for_bq(x))\n",
    "    df_result['word_token_filtered_string'] = df_result['word_token_filtered'].apply(lambda x: ','.join(x))\n",
    "    df_result['word_token_filtered_string_for_bq'] = df_result['word_token_filtered_for_bq'].apply(lambda x: ','.join(x))\n",
    "    return df_result\n",
    "\n",
    "temp_store_df = pd_df.copy()\n",
    "\n",
    "start=time.time()\n",
    "#factory = StemmerFactory()\n",
    "#stemmer = factory.create_stemmer()\n",
    "\n",
    "process(temp_store_df)\n",
    "\n",
    "final_store_df = temp_store_df.copy()\n",
    "end=time.time()\n",
    "\n",
    "print(\"took \"+str((end-start))+\" s\")\n",
    "\n",
    "final_store_df.head()"
   ]
  },
  {
   "cell_type": "code",
   "execution_count": 30,
   "metadata": {},
   "outputs": [
    {
     "data": {
      "text/plain": [
       "<matplotlib.axes._subplots.AxesSubplot at 0x7f76d9b30780>"
      ]
     },
     "execution_count": 30,
     "metadata": {},
     "output_type": "execute_result"
    },
    {
     "data": {
      "image/png": "[encoded data removed]",
      "text/plain": [
       "<matplotlib.figure.Figure at 0x7f76d9b30e80>"
      ]
     },
     "metadata": {},
     "output_type": "display_data"
    }
   ],
   "source": [
    "ax = plt.gca()\n",
    "\n",
    "pd_df.plot(kind=\"line\", x=\"category\",y=\"favorite_count\",ax=ax)\n",
    "pd_df.plot(kind=\"line\", x=\"category\",y=\"retweet_count\", color=\"blue\",ax=ax)\n",
    "\n",
    "#plt.show()\n"
   ]
  },
  {
   "cell_type": "code",
   "execution_count": 20,
   "metadata": {},
   "outputs": [
    {
     "data": {
      "image/png": "[encoded data removed]",
      "text/plain": [
       "<matplotlib.figure.Figure at 0x7f70bc5d8710>"
      ]
     },
     "metadata": {},
     "output_type": "display_data"
    }
   ],
   "source": [
    "%matplotlib inline\n",
    "\n",
    "import numpy as np\n",
    "import matplotlib.pyplot as plt\n",
    "\n",
    "men_means, men_std = (20, 35, 30, 35, 27), (2, 3, 4, 1, 2)\n",
    "women_means, women_std = (25, 32, 34, 20, 25), (3, 5, 2, 3, 3)\n",
    "\n",
    "ind = np.arange(len(men_means))  # the x locations for the groups\n",
    "width = 0.35  # the width of the bars\n",
    "\n",
    "fig, ax = plt.subplots()\n",
    "rects1 = ax.bar(ind - width/2, men_means, width, yerr=men_std,\n",
    "                color='SkyBlue', label='Men')\n",
    "rects2 = ax.bar(ind + width/2, women_means, width, yerr=women_std,\n",
    "                color='IndianRed', label='Women')\n",
    "\n",
    "# Add some text for labels, title and custom x-axis tick labels, etc.\n",
    "ax.set_ylabel('Scores')\n",
    "ax.set_title('Scores by group and gender')\n",
    "ax.set_xticks(ind)\n",
    "ax.set_xticklabels(('G1', 'G2', 'G3', 'G4', 'G5'))\n",
    "ax.legend()\n",
    "\n",
    "\n",
    "def autolabel(rects, xpos='center'):\n",
    "    \"\"\"\n",
    "    Attach a text label above each bar in *rects*, displaying its height.\n",
    "\n",
    "    *xpos* indicates which side to place the text w.r.t. the center of\n",
    "    the bar. It can be one of the following {'center', 'right', 'left'}.\n",
    "    \"\"\"\n",
    "\n",
    "    xpos = xpos.lower()  # normalize the case of the parameter\n",
    "    ha = {'center': 'center', 'right': 'left', 'left': 'right'}\n",
    "    offset = {'center': 0.5, 'right': 0.57, 'left': 0.43}  # x_txt = x + w*off\n",
    "\n",
    "    for rect in rects:\n",
    "        height = rect.get_height()\n",
    "        ax.text(rect.get_x() + rect.get_width()*offset[xpos], 1.01*height,\n",
    "                '{}'.format(height), ha=ha[xpos], va='bottom')\n",
    "\n",
    "\n",
    "autolabel(rects1, \"left\")\n",
    "autolabel(rects2, \"right\")\n",
    "\n",
    "plt.show()"
   ]
  },
  {
   "cell_type": "code",
   "execution_count": null,
   "metadata": {},
   "outputs": [],
   "source": []
  }
 ],
 "metadata": {
  "kernelspec": {
   "display_name": "Python 3",
   "language": "python",
   "name": "python3"
  },
  "language_info": {
   "codemirror_mode": {
    "name": "ipython",
    "version": 3
   },
   "file_extension": ".py",
   "mimetype": "text/x-python",
   "name": "python",
   "nbconvert_exporter": "python",
   "pygments_lexer": "ipython3",
   "version": "3.6.4"
  }
 },
 "nbformat": 4,
 "nbformat_minor": 2
}
